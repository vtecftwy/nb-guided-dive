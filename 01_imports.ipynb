{
 "cells": [
  {
   "cell_type": "markdown",
   "id": "10ca8b02",
   "metadata": {},
   "source": [
    "# Imports\n",
    "> Imports all required packages common to all notebooks used in guided dives"
   ]
  },
  {
   "cell_type": "code",
   "execution_count": null,
   "id": "41704679",
   "metadata": {},
   "outputs": [],
   "source": [
    "# | default_exp imports"
   ]
  },
  {
   "cell_type": "markdown",
   "id": "91504d89",
   "metadata": {},
   "source": [
    "List of all packages and objects which should be imported and accessible from the guided dive notebook"
   ]
  },
  {
   "cell_type": "code",
   "execution_count": null,
   "id": "c5879e28",
   "metadata": {},
   "outputs": [],
   "source": [
    "# | export\n",
    "print('start imports')\n",
    "\n",
    "__all__ = ['np', 'pd','shutil', 'Path', 'duckduckgo_search', 'display_image_cleaner']"
   ]
  },
  {
   "cell_type": "code",
   "execution_count": null,
   "id": "6f6e5bc9",
   "metadata": {},
   "outputs": [],
   "source": [
    "# | export\n",
    "import numpy as np\n",
    "import pandas as pd\n",
    "import graphviz\n",
    "import matplotlib as mpl\n",
    "import shutil\n",
    "\n",
    "from jmd_imagescraper.core import duckduckgo_search\n",
    "from jmd_imagescraper.imagecleaner import display_image_cleaner\n",
    "from pathlib import Path\n",
    "\n",
    "# from pandas.api.types import CategoricalDtype\n",
    "# from scipy.cluster import hierarchy as hc"
   ]
  },
  {
   "cell_type": "code",
   "execution_count": null,
   "id": "d0acdf09",
   "metadata": {},
   "outputs": [],
   "source": [
    "# | export\n",
    "mpl.rcParams['savefig.dpi']= 200\n",
    "mpl.rcParams['font.size']=12\n",
    "\n",
    "set_seed(88)\n",
    "\n",
    "torch.backends.cudnn.deterministic = True\n",
    "torch.backends.cudnn.benchmark = False\n",
    "torch.set_printoptions(linewidth=200)\n",
    "\n",
    "np.set_printoptions(linewidth=200)\n",
    "pd.set_option('display.max_columns',999)\n",
    "\n",
    "\n",
    "\n",
    "print('import and configurations finished')"
   ]
  },
  {
   "cell_type": "code",
   "execution_count": null,
   "id": "90410e99",
   "metadata": {},
   "outputs": [],
   "source": [
    "\n",
    "def mount_gdrive(path_to_ds=None):\n",
    "    drive.mount('/content/gdrive')\n",
    "    if path_to_ds is None:\n",
    "        dataset = Path('/content/gdrive/MyDrive/img-ds.zip')\n",
    "    else:\n",
    "        dataset = Path(path_to_ds)\n",
    "    \n",
    "    if not dataset.is_file():\n",
    "        raise ValueError(f\"Dataset cannot be found at <{dataset.absolute()}> \")\n"
   ]
  },
  {
   "cell_type": "code",
   "execution_count": null,
   "id": "207ca5a1",
   "metadata": {},
   "outputs": [],
   "source": [
    "# | export\n",
    "def gv(s): \n",
    "    return graphviz.Source('digraph G{ rankdir=\"LR\"' + s + '; }')\n",
    "\n",
    "# Prepare diagram 'Top Level'\n",
    "top_level = '''ordering=in\n",
    "            problem[shape=cds width=1 height=1 label=\"1\\nFrame business problem \\ninto a ML problem\"]\n",
    "            data[shape=cylinder width=1 height=1 label=\"2\\nCollect, and prepare \\ndata, incl. labeling\"]\n",
    "            modeling[shape=box3d width=1 height=1 label=\"3\\nBuild model \\nand train it\"]\n",
    "            evaluate[shape=component width=1 height=1 label=\"4\\nEvaluate and \\nvalidate model\"]\n",
    "            improve[shape=rarrow width=1 height=1 label=\"5\\nImprove model to \\nreach expected standard\"]\n",
    "            problem->data->modeling->evaluate->improve'''"
   ]
  },
  {
   "cell_type": "code",
   "execution_count": null,
   "id": "fb1f2c1d",
   "metadata": {},
   "outputs": [],
   "source": []
  }
 ],
 "metadata": {
  "kernelspec": {
   "display_name": "Python 3 (ipykernel)",
   "language": "python",
   "name": "python3"
  }
 },
 "nbformat": 4,
 "nbformat_minor": 5
}
