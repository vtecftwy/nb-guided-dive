{
 "cells": [
  {
   "cell_type": "markdown",
   "metadata": {},
   "source": [
    "# Imports\n",
    "> Imports all required packages common to all notebooks used in guided dives"
   ]
  },
  {
   "cell_type": "code",
   "execution_count": null,
   "metadata": {},
   "outputs": [],
   "source": [
    "# | default_exp llm"
   ]
  },
  {
   "cell_type": "markdown",
   "metadata": {},
   "source": [
    "List of all packages and objects which should be imported and accessible from the guided dive notebook"
   ]
  },
  {
   "cell_type": "code",
   "execution_count": null,
   "metadata": {},
   "outputs": [],
   "source": [
    "# | export\n",
    "imported_objects  = ['np', 'pd', 'plt', 'Path', 'torch']\n",
    "try:\n",
    "    __all__.extend(imported_objects)\n",
    "except:\n",
    "    __all__ = imported_objects"
   ]
  },
  {
   "cell_type": "code",
   "execution_count": null,
   "metadata": {},
   "outputs": [],
   "source": [
    "# | export\n",
    "\n",
    "import gc\n",
    "import shutil\n",
    "import subprocess\n",
    "import sys\n",
    "import warnings\n",
    "from pathlib import Path\n",
    "from pprint import pprint\n",
    "\n",
    "import matplotlib as mpl\n",
    "import matplotlib.pyplot as plt\n",
    "import numpy as np\n",
    "import pandas as pd\n",
    "import torch\n"
   ]
  },
  {
   "cell_type": "code",
   "execution_count": null,
   "metadata": {},
   "outputs": [],
   "source": [
    "#| export\n",
    "def all_layer_names(m):\n",
    "    \"\"\"Utility functions to extract submodule names and objects from a model\"\"\"\n",
    "    names = [sub[0] for sub in m.named_modules()]\n",
    "    print(f\"We have {len(names)} sub modules:\")\n",
    "    for n in names:\n",
    "        print(f\" - {n}\")\n",
    "\n",
    "def children_names(m):\n",
    "    names = [child[0] for child in m.named_children()]\n",
    "    print(f\"We have {len(names)} top-level modules:\")\n",
    "    for n in names:\n",
    "        print(f\" - {n}\")\n",
    "\n",
    "def get_children(m): return [child[1] for child in m.named_children()]\n",
    "\n",
    "def show_parameters_shape(m):\n",
    "    for p in m.parameters():\n",
    "        display(p.shape)\n",
    "\n",
    "def print_bert_results(res):\n",
    "    for i, item in enumerate(res):\n",
    "        masked = item['token_str']\n",
    "        mask_s = item['sequence'].find(masked)\n",
    "        mask_e = mask_s + len(masked)\n",
    "        str_md = f\"- \" + item['sequence'][:mask_s] + '... **' + item['sequence'][mask_s:mask_e] + '** ...' + item['sequence'][mask_e:] + f\"(*Prob: {item['score']:.3f}*)\"\n",
    "        display(Markdown(str_md))\n",
    "\n",
    "def print_gpt2_results(res):\n",
    "    display(Markdown(res[0]['generated_text']))\n",
    "\n",
    "def md(text):\n",
    "    display(Markdown(text))\n",
    "\n",
    "def clean_up(*args):\n",
    "    for o in args:\n",
    "        try:\n",
    "            del o\n",
    "        except:\n",
    "            pass\n",
    "    gc.collect()\n",
    "    gc.collect(generation=2)"
   ]
  },
  {
   "cell_type": "code",
   "execution_count": null,
   "metadata": {},
   "outputs": [],
   "source": [
    "#| hide\n",
    "import nbdev; nbdev.nbdev_export()"
   ]
  }
 ],
 "metadata": {
  "kernelspec": {
   "display_name": "python3",
   "language": "python",
   "name": "python3"
  }
 },
 "nbformat": 4,
 "nbformat_minor": 2
}
