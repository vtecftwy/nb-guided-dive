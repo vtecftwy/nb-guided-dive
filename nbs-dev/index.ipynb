{
 "cells": [
  {
   "cell_type": "code",
   "execution_count": null,
   "metadata": {},
   "outputs": [],
   "source": [
    "#| hide\n",
    "from nb_guided_dive.core import *"
   ]
  },
  {
   "cell_type": "markdown",
   "metadata": {},
   "source": [
    "# nb-guided-dive\n",
    "\n",
    "> Package to make it easier for people with limited code experience to run guided guide jupyter notebooks"
   ]
  },
  {
   "cell_type": "markdown",
   "metadata": {},
   "source": [
    "This package is a utility package used to make it easier for attendees to my guided dive workshop to run jupyter notebooks.\n",
    "\n",
    "It will change with no notice, depending on the requirements of ongoing and planned workshops."
   ]
  },
  {
   "cell_type": "markdown",
   "metadata": {},
   "source": [
    "## Install"
   ]
  },
  {
   "cell_type": "markdown",
   "metadata": {},
   "source": [
    "```sh\n",
    "pip install -U git+https://github.com/vtecftwy/nb-guided-dive.git\n",
    "```"
   ]
  },
  {
   "cell_type": "markdown",
   "metadata": {},
   "source": [
    "## How to use"
   ]
  },
  {
   "cell_type": "markdown",
   "metadata": {},
   "source": [
    "The package is used in prepared jupyter notebooks used during workshops. It is typically not used independently.\n",
    "\n",
    "Feel free to fork and adapt to your needs, if you find a use for it."
   ]
  }
 ],
 "metadata": {
  "kernelspec": {
   "display_name": "python3",
   "language": "python",
   "name": "python3"
  }
 },
 "nbformat": 4,
 "nbformat_minor": 4
}
