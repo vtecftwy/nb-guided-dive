{
 "cells": [
  {
   "cell_type": "markdown",
   "metadata": {},
   "source": [
    "# core\n",
    "\n",
    "> Fill in a module description here"
   ]
  },
  {
   "cell_type": "code",
   "execution_count": null,
   "metadata": {},
   "outputs": [],
   "source": [
    "#| default_exp core"
   ]
  },
  {
   "cell_type": "code",
   "execution_count": null,
   "metadata": {},
   "outputs": [],
   "source": [
    "# | export\n",
    "imported_objects  = ['np', 'pd','shutil', 'Path']\n",
    "try:\n",
    "    __all__.extend(imported_objects)\n",
    "except:\n",
    "    __all__ = imported_objects"
   ]
  },
  {
   "cell_type": "code",
   "execution_count": null,
   "metadata": {},
   "outputs": [],
   "source": [
    "#| hide\n",
    "from nbdev.showdoc import *"
   ]
  },
  {
   "cell_type": "code",
   "execution_count": null,
   "metadata": {},
   "outputs": [],
   "source": [
    "# | export\n",
    "def mount_gdrive(path_to_ds=None):\n",
    "\n",
    "    if path_to_ds is None:\n",
    "        dataset = Path('/content/gdrive/MyDrive/img-ds.zip')\n",
    "    else:\n",
    "        dataset = Path(path_to_ds)\n",
    "\n",
    "    try:\n",
    "        from google.colab import drive\n",
    "        drive.mount('/content/gdrive')\n",
    "        if not dataset.is_file():\n",
    "            raise ValueError(f\"Dataset cannot be found at <{dataset.absolute()}> \")\n",
    "    except:\n",
    "        print('This notebook should be run on Google Colab')"
   ]
  },
  {
   "cell_type": "code",
   "execution_count": null,
   "metadata": {},
   "outputs": [],
   "source": [
    "# | export\n",
    "def config_fastai_for_colab(path_to_ds=None):\n",
    "    \n",
    "    warnings.filterwarnings('ignore')\n",
    "    \n",
    "    # matplotlib settings\n",
    "    mpl.rcParams['savefig.dpi']= 200\n",
    "    mpl.rcParams['font.size']=12\n",
    "    \n",
    "    # fastai seed\n",
    "    set_seed(88)\n",
    "    \n",
    "    # pytorch settings\n",
    "    torch.backends.cudnn.deterministic = True\n",
    "    torch.backends.cudnn.benchmark = False\n",
    "    torch.set_printoptions(linewidth=200)\n",
    "\n",
    "    # numpy and pandas settings\n",
    "    np.set_printoptions(linewidth=200)\n",
    "    pd.set_option('display.max_columns',999)\n",
    "    \n",
    "    # mount goggle gdrive\n",
    "    mount_gdrive(path_to_ds)"
   ]
  },
  {
   "cell_type": "code",
   "execution_count": null,
   "metadata": {},
   "outputs": [],
   "source": [
    "#| hide\n",
    "import nbdev; nbdev.nbdev_export()"
   ]
  }
 ],
 "metadata": {
  "kernelspec": {
   "display_name": "Python 3.10.6 ('course22p2')",
   "language": "python",
   "name": "python3"
  }
 },
 "nbformat": 4,
 "nbformat_minor": 4
}
