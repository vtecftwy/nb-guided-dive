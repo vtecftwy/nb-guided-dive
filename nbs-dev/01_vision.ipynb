{
 "cells": [
  {
   "cell_type": "markdown",
   "id": "2b367396",
   "metadata": {},
   "source": [
    "# Imports\n",
    "> Imports all required packages common to all notebooks used in guided dives"
   ]
  },
  {
   "cell_type": "code",
   "execution_count": null,
   "id": "41704679",
   "metadata": {},
   "outputs": [],
   "source": [
    "# | default_exp vision"
   ]
  },
  {
   "cell_type": "markdown",
   "id": "64f5b6f7",
   "metadata": {},
   "source": [
    "List of all packages and objects which should be imported and accessible from the guided dive notebook"
   ]
  },
  {
   "cell_type": "code",
   "execution_count": null,
   "id": "c5879e28",
   "metadata": {},
   "outputs": [],
   "source": [
    "# | export\n",
    "imported_objects  = ['np', 'pd','shutil', 'Path', 'duckduckgo_search', 'display_image_cleaner']\n",
    "try:\n",
    "    __all__.extend(imported_objects)\n",
    "except:\n",
    "    __all__ = imported_objects"
   ]
  },
  {
   "cell_type": "code",
   "execution_count": null,
   "id": "6f6e5bc9",
   "metadata": {},
   "outputs": [],
   "source": [
    "# | export\n",
    "\n",
    "import numpy as np\n",
    "import pandas as pd\n",
    "import graphviz\n",
    "import matplotlib as mpl\n",
    "import shutil\n",
    "import subprocess\n",
    "import sys\n",
    "import torch\n",
    "import warnings\n",
    "import duckduckgo_search\n",
    "\n",
    "from fastai.vision.all import set_seed\n",
    "from duckduckgo_search import DDGS\n",
    "from jmd_imagescraper.imagecleaner import display_image_cleaner\n",
    "from pathlib import Path\n",
    "from PIL import Image\n",
    "\n",
    "from pandas.api.types import CategoricalDtype\n",
    "from scipy.cluster import hierarchy as hc"
   ]
  },
  {
   "cell_type": "code",
   "execution_count": null,
   "id": "43bd9ecf",
   "metadata": {},
   "outputs": [],
   "source": [
    "# | export\n",
    "def mount_gdrive(path_to_ds=None):\n",
    "\n",
    "    if path_to_ds is None:\n",
    "        dataset = Path('/content/gdrive/MyDrive/img-ds.zip')\n",
    "    else:\n",
    "        dataset = Path(path_to_ds)\n",
    "\n",
    "    try:\n",
    "        from google.colab import drive\n",
    "        drive.mount('/content/gdrive')\n",
    "        if not dataset.is_file():\n",
    "            raise ValueError(f\"Dataset cannot be found at <{dataset.absolute()}> \")\n",
    "    except:\n",
    "        print('This notebook should be run on Google Colab')"
   ]
  },
  {
   "cell_type": "code",
   "execution_count": null,
   "id": "4471367a",
   "metadata": {},
   "outputs": [],
   "source": [
    "# | export\n",
    "def config_fastai_for_colab(path_to_ds=None):\n",
    "    \n",
    "    warnings.filterwarnings('ignore')\n",
    "    \n",
    "    # matplotlib settings\n",
    "    mpl.rcParams['savefig.dpi']= 200\n",
    "    mpl.rcParams['font.size']=12\n",
    "    \n",
    "    # fastai seed\n",
    "    set_seed(88)\n",
    "    \n",
    "    # pytorch settings\n",
    "    torch.backends.cudnn.deterministic = True\n",
    "    torch.backends.cudnn.benchmark = False\n",
    "    torch.set_printoptions(linewidth=200)\n",
    "\n",
    "    # numpy and pandas settings\n",
    "    np.set_printoptions(linewidth=200)\n",
    "    pd.set_option('display.max_columns',999)\n",
    "    \n",
    "    # mount goggle gdrive\n",
    "    mount_gdrive(path_to_ds)"
   ]
  },
  {
   "cell_type": "code",
   "execution_count": null,
   "id": "7faa7296",
   "metadata": {},
   "outputs": [],
   "source": [
    "# export\n",
    "def install_package(package_name):\n",
    "    \"\"\"\n",
    "    Install a Python package using pip in the current Jupyter Notebook environment.\n",
    "    \n",
    "    Parameters:\n",
    "    package_name (str): The name of the package to install.\n",
    "    \"\"\"\n",
    "    try:\n",
    "        # Run the pip install command\n",
    "        subprocess.check_call([sys.executable, \"-m\", \"pip\", \"install\", package_name])\n",
    "        print(f\"Package '{package_name}' installed successfully.\")\n",
    "    except subprocess.CalledProcessError as e:\n",
    "        print(f\"Failed to install package '{package_name}'. Error: {e}\")"
   ]
  },
  {
   "cell_type": "code",
   "execution_count": null,
   "id": "207ca5a1",
   "metadata": {},
   "outputs": [],
   "source": [
    "# | export\n",
    "def gv(code=None): \n",
    "    return graphviz.Source('digraph G{ rankdir=\"LR\"' + code + '; }')\n",
    "\n",
    "def ml_process():\n",
    "    code = '''ordering=in\n",
    "        problem[shape=cds width=1 height=1 label=\"1\\nFrame business problem \\ninto a ML problem\"]\n",
    "        data[shape=cylinder width=1 height=1 label=\"2\\nCollect, and prepare \\ndata, incl. labeling\"]\n",
    "        modeling[shape=box3d width=1 height=1 label=\"3\\nBuild model \\nand train it\"]\n",
    "        evaluate[shape=component width=1 height=1 label=\"4\\nEvaluate and \\nvalidate model\"]\n",
    "        improve[shape=rarrow width=1 height=1 label=\"5\\nImprove model to \\nreach expected standard\"]\n",
    "        problem->data->modeling->evaluate->improve'''\n",
    "    return gv(code)"
   ]
  },
  {
   "cell_type": "code",
   "execution_count": null,
   "id": "fb1f2c1d",
   "metadata": {},
   "outputs": [],
   "source": [
    "# | export\n",
    "def clean_image_directory(path, verbose=False):\n",
    "    def check_img(img):\n",
    "        try: _ = Image.open(img)\n",
    "        except Exception as e:\n",
    "            img = str(img).replace(\" \",\"\\ \")\n",
    "            os.system(f\"rm -f {img}\");\n",
    "            print(f\"removing error img:{img}\")\n",
    "\n",
    "    for cls in path.iterdir():\n",
    "        for i, img in enumerate(cls.iterdir()):\n",
    "            if verbose: print(i, end=' - ')\n",
    "            check_img(img)\n",
    "            if verbose: print('\\n')"
   ]
  },
  {
   "cell_type": "code",
   "execution_count": null,
   "id": "5b544ea9",
   "metadata": {},
   "outputs": [],
   "source": [
    "# | export\n",
    "\n",
    "def count_files(path):\n",
    "    \"\"\"Count the number if files in the folder pointed as path, and its subfolders\"\"\"\n",
    "    if isinstance(path, str): path = Path(path)\n",
    "    nb_img = len([f for f in path.iterdir() if f.is_file()])\n",
    "    if nb_img > 0:\n",
    "        print(f\"{nb_img:,d} in folder {path.name}\")\n",
    "    for d in [d for d in path.iterdir() if d.is_dir()]:\n",
    "        nb_img = len([f for f in d.iterdir() if f.is_file()])\n",
    "        print(f\"{nb_img:,d} in folder {d.name}\")"
   ]
  },
  {
   "cell_type": "code",
   "execution_count": null,
   "id": "d41e68b2",
   "metadata": {},
   "outputs": [],
   "source": [
    "# | export\n",
    "\n",
    "def print_metrics(cm, class_1='OK', class_0='Not OK'):\n",
    "    \"\"\"Print FP, FN, Accuracy, Precision  and Recall\"\"\"\n",
    "    nb_val_im = cm.sum()\n",
    "    true_nb_im_per_class = cm.sum(axis=1)\n",
    "    pred_nb_im_per_class = cm.sum(axis=0)\n",
    "\n",
    "    print(f\"Accurate predictions:               {cm[0,0] + cm[1,1]:3d} out of {nb_val_im:,d} validation images\") \n",
    "    print(f\"False Positive preds:               {cm[0,1]:3d} images classified as `{class_1}` but actually should be `{class_0}`)\")   \n",
    "    print(f\"False Negative preds:               {cm[1,0]:3d} images classified as `{class_0}` but actually should be `{class_1}`)\")\n",
    "    print()\n",
    "    print(f\"Accuracy:                           {cm.diagonal().sum()/nb_val_im * 100:6.2f} %\") \n",
    "    print(f\"Precision for '{class_1}' preds: {cm[1, 1]/pred_nb_im_per_class[1] * 100:6.2f} %\")   \n",
    "    print(f\"Recall for '{class_1}' preds:    {cm[1,1]/true_nb_im_per_class[1] * 100:6.2f} %\")\n",
    "    "
   ]
  },
  {
   "cell_type": "code",
   "execution_count": null,
   "id": "36290dc4",
   "metadata": {},
   "outputs": [],
   "source": [
    "#| hide\n",
    "import nbdev; nbdev.nbdev_export()"
   ]
  }
 ],
 "metadata": {
  "kernelspec": {
   "display_name": "python3",
   "language": "python",
   "name": "python3"
  }
 },
 "nbformat": 4,
 "nbformat_minor": 5
}
